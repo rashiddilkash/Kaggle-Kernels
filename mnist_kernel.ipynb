{
 "cells": [
  {
   "cell_type": "markdown",
   "metadata": {
    "_uuid": "aa621f76195962da026e03055468e0d5ae6fca66"
   },
   "source": [
    "* MNIST with Convoluted NN Keras\n",
    "* Train set is made of Kaggle 42k + Keras 60k = 102k\n",
    "* CV on train and then test on 10k from Keras\n",
    "* Final model is trained on train+test = 112k\n",
    "* CNN with adam ( vs rmsprop) and dropout against overfitting\n",
    "\n",
    "* It's a quick intro to the capabilities of CNN and Keras"
   ]
  },
  {
   "cell_type": "code",
   "execution_count": 19,
   "metadata": {
    "_cell_guid": "b1076dfc-b9ad-4769-8c92-a6c4dae69d19",
    "_uuid": "8f2839f25d086af736a60e9eeb907d3b93b6e0e5"
   },
   "outputs": [
    {
     "name": "stdout",
     "output_type": "stream",
     "text": [
      "/kaggle/working\n",
      "Modules imported \n",
      "\n",
      "Files in current directory:\n",
      "sample_submission.csv\n",
      "test.csv\n",
      "train.csv\n",
      "\n"
     ]
    }
   ],
   "source": [
    "# IMPORT modules\n",
    "# TURN ON the GPU !!!\n",
    "# If importing dataset from outside - like the Keras dataset - Internet must be \"connected\"\n",
    "\n",
    "import os\n",
    "from operator import itemgetter    \n",
    "import numpy as np\n",
    "import pandas as pd\n",
    "import matplotlib.pyplot as plt\n",
    "import warnings\n",
    "warnings.filterwarnings('ignore')\n",
    "get_ipython().magic(u'matplotlib inline')\n",
    "plt.style.use('ggplot')\n",
    "\n",
    "import tensorflow as tf\n",
    "\n",
    "from keras import models, regularizers, layers, optimizers, losses, metrics\n",
    "from keras.models import Sequential\n",
    "from keras.layers import Dense\n",
    "from keras.utils import np_utils, to_categorical\n",
    "\n",
    "from keras.datasets import mnist\n",
    "\n",
    "print(os.getcwd())\n",
    "print(\"Modules imported \\n\")\n",
    "print(\"Files in current directory:\")\n",
    "from subprocess import check_output\n",
    "print(check_output([\"ls\", \"../input\"]).decode(\"utf8\")) #check the files available in the directory"
   ]
  },
  {
   "cell_type": "code",
   "execution_count": 20,
   "metadata": {
    "_uuid": "14193f620bcf73f6d4e2fbb3379b4437d82c14c8"
   },
   "outputs": [
    {
     "name": "stdout",
     "output_type": "stream",
     "text": [
      "Help on function check_output in module subprocess:\n",
      "\n",
      "check_output(*popenargs, timeout=None, **kwargs)\n",
      "    Run command with arguments and return its output.\n",
      "    \n",
      "    If the exit code was non-zero it raises a CalledProcessError.  The\n",
      "    CalledProcessError object will have the return code in the returncode\n",
      "    attribute and output in the output attribute.\n",
      "    \n",
      "    The arguments are the same as for the Popen constructor.  Example:\n",
      "    \n",
      "    >>> check_output([\"ls\", \"-l\", \"/dev/null\"])\n",
      "    b'crw-rw-rw- 1 root root 1, 3 Oct 18  2007 /dev/null\\n'\n",
      "    \n",
      "    The stdout argument is not allowed as it is used internally.\n",
      "    To capture standard error in the result, use stderr=STDOUT.\n",
      "    \n",
      "    >>> check_output([\"/bin/sh\", \"-c\",\n",
      "    ...               \"ls -l non_existent_file ; exit 0\"],\n",
      "    ...              stderr=STDOUT)\n",
      "    b'ls: non_existent_file: No such file or directory\\n'\n",
      "    \n",
      "    There is an additional optional argument, \"input\", allowing you to\n",
      "    pass a string to the subprocess's stdin.  If you use this argument\n",
      "    you may not also use the Popen constructor's \"stdin\" argument, as\n",
      "    it too will be used internally.  Example:\n",
      "    \n",
      "    >>> check_output([\"sed\", \"-e\", \"s/foo/bar/\"],\n",
      "    ...              input=b\"when in the course of fooman events\\n\")\n",
      "    b'when in the course of barman events\\n'\n",
      "    \n",
      "    If universal_newlines=True is passed, the \"input\" argument must be a\n",
      "    string and the return value will be a string rather than bytes.\n",
      "\n"
     ]
    }
   ],
   "source": [
    "help(check_output)"
   ]
  },
  {
   "cell_type": "code",
   "execution_count": 21,
   "metadata": {
    "_uuid": "dd21d55df8216b41b6f62a6df369246a5c860149"
   },
   "outputs": [],
   "source": [
    "# LOAD DATA from Kaggle\n",
    "\n",
    "trainRaw = pd.read_csv('../input/train.csv')\n",
    "testRaw = pd.read_csv('../input/test.csv')"
   ]
  },
  {
   "cell_type": "code",
   "execution_count": null,
   "metadata": {
    "_uuid": "5b9da7e4f472860feac94b2ef793cdaac319bf00"
   },
   "outputs": [],
   "source": []
  },
  {
   "cell_type": "code",
   "execution_count": 22,
   "metadata": {
    "_uuid": "62137573d06bff5fd352ef7b2f79b88a527ed97d",
    "scrolled": true
   },
   "outputs": [
    {
     "name": "stdout",
     "output_type": "stream",
     "text": [
      "train with Labels   (42000, 785)\n",
      "train_labelsKaggle  (42000,)\n",
      "__________________________________________________\n",
      "train_imagesKaggle without Labels  (42000, 784)\n",
      "__________________________________________________\n",
      "test_imagesKaggle   (28000, 784)\n"
     ]
    }
   ],
   "source": [
    "train = trainRaw.copy()\n",
    "test_imagesKaggle = testRaw.copy()\n",
    "train_labelsKaggle = trainRaw['label']\n",
    "\n",
    "print(\"train with Labels  \", train.shape)\n",
    "print(\"train_labelsKaggle \", train_labelsKaggle.shape)\n",
    "print(\"_\"*50)\n",
    "train.drop(['label'],axis=1, inplace=True)\n",
    "train_imagesKaggle = train\n",
    "print(\"train_imagesKaggle without Labels \", train_imagesKaggle.shape)\n",
    "print(\"_\"*50)\n",
    "print(\"test_imagesKaggle  \", test_imagesKaggle.shape)"
   ]
  },
  {
   "cell_type": "code",
   "execution_count": 23,
   "metadata": {
    "_uuid": "69fbab6bee560c25edc5c4676868e0c229566d32"
   },
   "outputs": [
    {
     "name": "stdout",
     "output_type": "stream",
     "text": [
      "Help on function reshape in module numpy:\n",
      "\n",
      "reshape(a, newshape, order='C')\n",
      "    Gives a new shape to an array without changing its data.\n",
      "    \n",
      "    Parameters\n",
      "    ----------\n",
      "    a : array_like\n",
      "        Array to be reshaped.\n",
      "    newshape : int or tuple of ints\n",
      "        The new shape should be compatible with the original shape. If\n",
      "        an integer, then the result will be a 1-D array of that length.\n",
      "        One shape dimension can be -1. In this case, the value is\n",
      "        inferred from the length of the array and remaining dimensions.\n",
      "    order : {'C', 'F', 'A'}, optional\n",
      "        Read the elements of `a` using this index order, and place the\n",
      "        elements into the reshaped array using this index order.  'C'\n",
      "        means to read / write the elements using C-like index order,\n",
      "        with the last axis index changing fastest, back to the first\n",
      "        axis index changing slowest. 'F' means to read / write the\n",
      "        elements using Fortran-like index order, with the first index\n",
      "        changing fastest, and the last index changing slowest. Note that\n",
      "        the 'C' and 'F' options take no account of the memory layout of\n",
      "        the underlying array, and only refer to the order of indexing.\n",
      "        'A' means to read / write the elements in Fortran-like index\n",
      "        order if `a` is Fortran *contiguous* in memory, C-like order\n",
      "        otherwise.\n",
      "    \n",
      "    Returns\n",
      "    -------\n",
      "    reshaped_array : ndarray\n",
      "        This will be a new view object if possible; otherwise, it will\n",
      "        be a copy.  Note there is no guarantee of the *memory layout* (C- or\n",
      "        Fortran- contiguous) of the returned array.\n",
      "    \n",
      "    See Also\n",
      "    --------\n",
      "    ndarray.reshape : Equivalent method.\n",
      "    \n",
      "    Notes\n",
      "    -----\n",
      "    It is not always possible to change the shape of an array without\n",
      "    copying the data. If you want an error to be raised when the data is copied,\n",
      "    you should assign the new shape to the shape attribute of the array::\n",
      "    \n",
      "     >>> a = np.zeros((10, 2))\n",
      "     # A transpose makes the array non-contiguous\n",
      "     >>> b = a.T\n",
      "     # Taking a view makes it possible to modify the shape without modifying\n",
      "     # the initial object.\n",
      "     >>> c = b.view()\n",
      "     >>> c.shape = (20)\n",
      "     AttributeError: incompatible shape for a non-contiguous array\n",
      "    \n",
      "    The `order` keyword gives the index ordering both for *fetching* the values\n",
      "    from `a`, and then *placing* the values into the output array.\n",
      "    For example, let's say you have an array:\n",
      "    \n",
      "    >>> a = np.arange(6).reshape((3, 2))\n",
      "    >>> a\n",
      "    array([[0, 1],\n",
      "           [2, 3],\n",
      "           [4, 5]])\n",
      "    \n",
      "    You can think of reshaping as first raveling the array (using the given\n",
      "    index order), then inserting the elements from the raveled array into the\n",
      "    new array using the same kind of index ordering as was used for the\n",
      "    raveling.\n",
      "    \n",
      "    >>> np.reshape(a, (2, 3)) # C-like index ordering\n",
      "    array([[0, 1, 2],\n",
      "           [3, 4, 5]])\n",
      "    >>> np.reshape(np.ravel(a), (2, 3)) # equivalent to C ravel then C reshape\n",
      "    array([[0, 1, 2],\n",
      "           [3, 4, 5]])\n",
      "    >>> np.reshape(a, (2, 3), order='F') # Fortran-like index ordering\n",
      "    array([[0, 4, 3],\n",
      "           [2, 1, 5]])\n",
      "    >>> np.reshape(np.ravel(a, order='F'), (2, 3), order='F')\n",
      "    array([[0, 4, 3],\n",
      "           [2, 1, 5]])\n",
      "    \n",
      "    Examples\n",
      "    --------\n",
      "    >>> a = np.array([[1,2,3], [4,5,6]])\n",
      "    >>> np.reshape(a, 6)\n",
      "    array([1, 2, 3, 4, 5, 6])\n",
      "    >>> np.reshape(a, 6, order='F')\n",
      "    array([1, 4, 2, 5, 3, 6])\n",
      "    \n",
      "    >>> np.reshape(a, (3,-1))       # the unspecified value is inferred to be 2\n",
      "    array([[1, 2],\n",
      "           [3, 4],\n",
      "           [5, 6]])\n",
      "\n"
     ]
    }
   ],
   "source": [
    "help(np.reshape)"
   ]
  },
  {
   "cell_type": "code",
   "execution_count": 24,
   "metadata": {
    "_uuid": "08c17320b4df5efce432e399afdd0b58a9272493"
   },
   "outputs": [
    {
     "name": "stdout",
     "output_type": "stream",
     "text": [
      "train image\n",
      "2\n"
     ]
    },
    {
     "data": {
      "image/png": "[encoded data removed]",
      "text/plain": [
       "<Figure size 432x288 with 1 Axes>"
      ]
     },
     "metadata": {},
     "output_type": "display_data"
    },
    {
     "name": "stdout",
     "output_type": "stream",
     "text": [
      "test image\n"
     ]
    },
    {
     "data": {
      "image/png": "[encoded data removed]",
      "text/plain": [
       "<Figure size 432x288 with 1 Axes>"
      ]
     },
     "metadata": {},
     "output_type": "display_data"
    }
   ],
   "source": [
    "# RESHAPE to 28 X 28 (Height, Width) which Kaggle has flattened in their file\n",
    "\n",
    "train4Display = np.array(train_imagesKaggle).reshape(42000,28,28)\n",
    "test4Display = np.array(test_imagesKaggle).reshape(28000,28,28)\n",
    "\n",
    "z = 4056\n",
    "\n",
    "print(\"train image\")\n",
    "print(train_labelsKaggle[z])\n",
    "digit = train4Display[z]\n",
    "plt.imshow(digit, cmap=plt.cm.binary)\n",
    "plt.show()\n",
    "\n",
    "print(\"test image\")\n",
    "digit = test4Display[z]\n",
    "plt.imshow(digit, cmap=plt.cm.binary)\n",
    "plt.show()\n"
   ]
  },
  {
   "cell_type": "code",
   "execution_count": 25,
   "metadata": {
    "_uuid": "c6f6371bd2c5400a5cb4a735ef8a1e61b2093d66"
   },
   "outputs": [
    {
     "name": "stdout",
     "output_type": "stream",
     "text": [
      "train_imagesKaggle  (42000, 28, 28, 1)\n",
      "test_imagesKaggle  (28000, 28, 28, 1)\n",
      "__________________________________________________\n",
      "train_labelsKaggle  (42000, 10)\n"
     ]
    }
   ],
   "source": [
    "# NORMALIZE / SCALE and Prep for CNN in terms of number dimensions expected\n",
    "\n",
    "train_imagesKaggle = train4Display.reshape(42000,28,28,1)\n",
    "test_imagesKaggle = test4Display.reshape(28000,28,28,1)\n",
    "\n",
    "train_imagesKaggle = train_imagesKaggle.astype('float32') / 255\n",
    "test_imagesKaggle = test_imagesKaggle.astype('float32') / 255\n",
    "print(\"train_imagesKaggle \",train_imagesKaggle.shape)\n",
    "print(\"test_imagesKaggle \", test_imagesKaggle.shape)\n",
    "print(\"_\"*50)\n",
    "\n",
    "# ONE HOT ENCODER for the labels\n",
    "train_labelsKaggle = to_categorical(train_labelsKaggle)\n",
    "print(\"train_labelsKaggle \",train_labelsKaggle.shape)"
   ]
  },
  {
   "cell_type": "code",
   "execution_count": 26,
   "metadata": {
    "_uuid": "efd02eff42dd1d81d3408b3e10d8aa9769c97197"
   },
   "outputs": [],
   "source": [
    "# Load Data from Keras MNIST\n",
    "\n",
    "(train_imagesRaw, train_labelsRaw), (test_imagesRaw, test_labelsRaw) = mnist.load_data()"
   ]
  },
  {
   "cell_type": "code",
   "execution_count": 27,
   "metadata": {
    "_uuid": "ed31acc871c37d7386fe4aa7e791d25ae3217e5d"
   },
   "outputs": [
    {
     "name": "stdout",
     "output_type": "stream",
     "text": [
      "train_imagesKeras  (60000, 28, 28, 1)\n",
      "train_labelsKeras  (60000,)\n",
      "test_imagesKeras  (10000, 28, 28, 1)\n",
      "test_labelsKeras  (10000,)\n",
      "__________________________________________________\n",
      "train_labelsKeras  (60000, 10)\n",
      "test_labelsKeras  (10000, 10)\n"
     ]
    }
   ],
   "source": [
    "# Normalize / Scale and One Hot encoder for the Keras dataset & Reshape for CNN\n",
    "\n",
    "train_imagesKeras = train_imagesRaw.copy()\n",
    "train_labelsKeras = train_labelsRaw.copy()\n",
    "test_imagesKeras = test_imagesRaw.copy()\n",
    "test_labelsKeras = test_labelsRaw.copy()\n",
    "\n",
    "train_imagesKeras = train_imagesKeras.reshape(60000,28,28,1)\n",
    "test_imagesKeras = test_imagesKeras.reshape(10000,28,28,1)\n",
    "\n",
    "print(\"train_imagesKeras \",train_imagesKeras.shape)\n",
    "print(\"train_labelsKeras \",train_labelsKeras.shape)\n",
    "print(\"test_imagesKeras \", test_imagesKeras.shape)\n",
    "print(\"test_labelsKeras \", test_labelsKeras.shape)\n",
    "\n",
    "# NORMALIZE 0-255 to 0-1\n",
    "train_imagesKeras = train_imagesKeras.astype('float32') / 255\n",
    "test_imagesKeras = test_imagesKeras.astype('float32') / 255\n",
    "print(\"_\"*50)\n",
    "\n",
    "# ONE HOT ENCODER for the labels\n",
    "train_labelsKeras = to_categorical(train_labelsKeras)\n",
    "test_labelsKeras = to_categorical(test_labelsKeras)\n",
    "print(\"train_labelsKeras \",train_labelsKeras.shape)\n",
    "print(\"test_labelsKeras \", test_labelsKeras.shape)"
   ]
  },
  {
   "cell_type": "code",
   "execution_count": 28,
   "metadata": {
    "_uuid": "76394ab509a426d75385ebf6e2f66c8c4c116edf"
   },
   "outputs": [
    {
     "name": "stdout",
     "output_type": "stream",
     "text": [
      "new Concatenated train_images  (102000, 28, 28, 1)\n",
      "__________________________________________________\n",
      "new Concatenated train_labels  (102000, 10)\n"
     ]
    }
   ],
   "source": [
    "# CONCATENATE the training sets of Kaggle and Keras into final TRAIN and leave the test for CV\n",
    "\n",
    "train_images = np.concatenate((train_imagesKeras,train_imagesKaggle), axis=0)\n",
    "print(\"new Concatenated train_images \", train_images.shape)\n",
    "print(\"_\"*50)\n",
    "\n",
    "train_labels = np.concatenate((train_labelsKeras,train_labelsKaggle), axis=0)\n",
    "print(\"new Concatenated train_labels \", train_labels.shape)"
   ]
  },
  {
   "cell_type": "code",
   "execution_count": 29,
   "metadata": {
    "_uuid": "15ce294fa6aee518d0def20afa1b489cda189e3c"
   },
   "outputs": [
    {
     "name": "stdout",
     "output_type": "stream",
     "text": [
      "_________________________________________________________________\n",
      "Layer (type)                 Output Shape              Param #   \n",
      "=================================================================\n",
      "conv2d_4 (Conv2D)            (None, 26, 26, 32)        320       \n",
      "_________________________________________________________________\n",
      "dropout_4 (Dropout)          (None, 26, 26, 32)        0         \n",
      "_________________________________________________________________\n",
      "max_pooling2d_3 (MaxPooling2 (None, 13, 13, 32)        0         \n",
      "_________________________________________________________________\n",
      "conv2d_5 (Conv2D)            (None, 11, 11, 64)        18496     \n",
      "_________________________________________________________________\n",
      "dropout_5 (Dropout)          (None, 11, 11, 64)        0         \n",
      "_________________________________________________________________\n",
      "max_pooling2d_4 (MaxPooling2 (None, 5, 5, 64)          0         \n",
      "_________________________________________________________________\n",
      "conv2d_6 (Conv2D)            (None, 3, 3, 64)          36928     \n",
      "_________________________________________________________________\n",
      "dropout_6 (Dropout)          (None, 3, 3, 64)          0         \n",
      "_________________________________________________________________\n",
      "flatten_2 (Flatten)          (None, 576)               0         \n",
      "_________________________________________________________________\n",
      "dense_3 (Dense)              (None, 64)                36928     \n",
      "_________________________________________________________________\n",
      "dense_4 (Dense)              (None, 10)                650       \n",
      "=================================================================\n",
      "Total params: 93,322\n",
      "Trainable params: 93,322\n",
      "Non-trainable params: 0\n",
      "_________________________________________________________________\n",
      "None\n"
     ]
    }
   ],
   "source": [
    "# Initial model\n",
    "\n",
    "model = models.Sequential()\n",
    "model.add(layers.Conv2D(32, (3, 3), activation='relu', input_shape=(28, 28, 1)))\n",
    "model.add(layers.Dropout(0.5))\n",
    "model.add(layers.MaxPooling2D((2, 2)))\n",
    "model.add(layers.Conv2D(64, (3, 3), activation='relu'))\n",
    "model.add(layers.Dropout(0.5))\n",
    "model.add(layers.MaxPooling2D((2, 2)))\n",
    "model.add(layers.Conv2D(64, (3, 3), activation='relu'))\n",
    "model.add(layers.Dropout(0.5))\n",
    "model.add(layers.Flatten())\n",
    "model.add(layers.Dense(64, activation='relu'))\n",
    "model.add(layers.Dense(10, activation='softmax'))\n",
    "model.compile(optimizer='rmsprop',loss='categorical_crossentropy',metrics=['accuracy'])\n",
    "print(model.summary())"
   ]
  },
  {
   "cell_type": "code",
   "execution_count": 30,
   "metadata": {
    "_uuid": "0361e316830d909e82a8e56fef09bca13f51bcd7"
   },
   "outputs": [
    {
     "name": "stdout",
     "output_type": "stream",
     "text": [
      "Epoch 1/30\n",
      "102000/102000 [==============================] - 12s 118us/step - loss: 0.8525 - acc: 0.7210\n",
      "Epoch 2/30\n",
      "102000/102000 [==============================] - 6s 58us/step - loss: 0.2753 - acc: 0.9140\n",
      "Epoch 3/30\n",
      "102000/102000 [==============================] - 6s 57us/step - loss: 0.1663 - acc: 0.9486\n",
      "Epoch 4/30\n",
      "102000/102000 [==============================] - 6s 57us/step - loss: 0.1280 - acc: 0.9603\n",
      "Epoch 5/30\n",
      "102000/102000 [==============================] - 6s 57us/step - loss: 0.1009 - acc: 0.9684\n",
      "Epoch 6/30\n",
      "102000/102000 [==============================] - 6s 57us/step - loss: 0.0868 - acc: 0.9730\n",
      "Epoch 7/30\n",
      "102000/102000 [==============================] - 6s 57us/step - loss: 0.0766 - acc: 0.9761\n",
      "Epoch 8/30\n",
      "102000/102000 [==============================] - 6s 57us/step - loss: 0.0664 - acc: 0.9794\n",
      "Epoch 9/30\n",
      "102000/102000 [==============================] - 6s 57us/step - loss: 0.0620 - acc: 0.9805\n",
      "Epoch 10/30\n",
      "102000/102000 [==============================] - 6s 57us/step - loss: 0.0575 - acc: 0.9822\n",
      "Epoch 11/30\n",
      "102000/102000 [==============================] - 6s 57us/step - loss: 0.0531 - acc: 0.9833\n",
      "Epoch 12/30\n",
      "102000/102000 [==============================] - 6s 57us/step - loss: 0.0501 - acc: 0.9846\n",
      "Epoch 13/30\n",
      "102000/102000 [==============================] - 6s 57us/step - loss: 0.0484 - acc: 0.9846\n",
      "Epoch 14/30\n",
      "102000/102000 [==============================] - 6s 57us/step - loss: 0.0447 - acc: 0.9857\n",
      "Epoch 15/30\n",
      "102000/102000 [==============================] - 6s 57us/step - loss: 0.0435 - acc: 0.9862\n",
      "Epoch 16/30\n",
      "102000/102000 [==============================] - 6s 57us/step - loss: 0.0422 - acc: 0.9866\n",
      "Epoch 17/30\n",
      "102000/102000 [==============================] - 6s 57us/step - loss: 0.0401 - acc: 0.9874\n",
      "Epoch 18/30\n",
      "102000/102000 [==============================] - 6s 57us/step - loss: 0.0380 - acc: 0.9877\n",
      "Epoch 19/30\n",
      "102000/102000 [==============================] - 6s 57us/step - loss: 0.0370 - acc: 0.9881\n",
      "Epoch 20/30\n",
      "102000/102000 [==============================] - 6s 57us/step - loss: 0.0352 - acc: 0.9888\n",
      "Epoch 21/30\n",
      "102000/102000 [==============================] - 6s 57us/step - loss: 0.0343 - acc: 0.9889\n",
      "Epoch 22/30\n",
      "102000/102000 [==============================] - 6s 57us/step - loss: 0.0343 - acc: 0.9890\n",
      "Epoch 23/30\n",
      "102000/102000 [==============================] - 6s 57us/step - loss: 0.0333 - acc: 0.9893\n",
      "Epoch 24/30\n",
      "102000/102000 [==============================] - 6s 57us/step - loss: 0.0320 - acc: 0.9899\n",
      "Epoch 25/30\n",
      "102000/102000 [==============================] - 6s 57us/step - loss: 0.0313 - acc: 0.9901\n",
      "Epoch 26/30\n",
      "102000/102000 [==============================] - 6s 57us/step - loss: 0.0288 - acc: 0.9905\n",
      "Epoch 27/30\n",
      "102000/102000 [==============================] - 6s 57us/step - loss: 0.0299 - acc: 0.9902\n",
      "Epoch 28/30\n",
      "102000/102000 [==============================] - 6s 57us/step - loss: 0.0284 - acc: 0.9907\n",
      "Epoch 29/30\n",
      "102000/102000 [==============================] - 6s 57us/step - loss: 0.0288 - acc: 0.9905\n",
      "Epoch 30/30\n",
      "102000/102000 [==============================] - 6s 57us/step - loss: 0.0282 - acc: 0.9907\n",
      "10000/10000 [==============================] - 1s 78us/step\n",
      "________________________________________________________________________________\n",
      "Accuracy on test  0.9962\n"
     ]
    }
   ],
   "source": [
    "# Initial fIT & Evaluate initial model\n",
    "\n",
    "num_epochs = 30\n",
    "BatchSize = 2048\n",
    "\n",
    "model.fit(train_images, train_labels, epochs=num_epochs, batch_size=BatchSize)\n",
    "test_loss, test_acc = model.evaluate(test_imagesKeras, test_labelsKeras)\n",
    "print(\"_\"*80)\n",
    "print(\"Accuracy on test \", test_acc)"
   ]
  },
  {
   "cell_type": "code",
   "execution_count": 31,
   "metadata": {
    "_uuid": "4231c20fc6b109202029e4743dd51adeffcefcb9"
   },
   "outputs": [],
   "source": [
    "# NN MODEL\n",
    "\n",
    "def build_model():    \n",
    "    model = models.Sequential()\n",
    "    model.add(layers.Conv2D(32, (3, 3), activation='relu', input_shape=(28, 28, 1)))\n",
    "    model.add(layers.Dropout(0.5))\n",
    "    model.add(layers.MaxPooling2D((2, 2)))\n",
    "    model.add(layers.Conv2D(64, (3, 3), activation='relu'))\n",
    "    model.add(layers.Dropout(0.5))\n",
    "    model.add(layers.MaxPooling2D((2, 2)))\n",
    "    model.add(layers.Conv2D(64, (3, 3), activation='relu'))\n",
    "    model.add(layers.Dropout(0.5))\n",
    "    model.add(layers.Flatten())\n",
    "    model.add(layers.Dense(64, activation='relu'))\n",
    "    model.add(layers.Dense(10, activation='softmax'))\n",
    "    model.compile(optimizer='rmsprop',loss='categorical_crossentropy',metrics=['accuracy'])\n",
    "    return model"
   ]
  },
  {
   "cell_type": "code",
   "execution_count": null,
   "metadata": {
    "_uuid": "0b17d62c2cb73a3f159bee74ac7f9df41434993d",
    "scrolled": false
   },
   "outputs": [],
   "source": [
    "# Check some test vs pred\n",
    "#TestNum = 10\n",
    "#for t in range(100, 100+TestNum):\n",
    "#    print(predictions[t])\n",
    "#    digit = test_imagesRaw[t]\n",
    "#    plt.imshow(digit, cmap=plt.cm.binary)\n",
    "#    plt.show()"
   ]
  },
  {
   "cell_type": "code",
   "execution_count": null,
   "metadata": {
    "_uuid": "0de13e6aae7e7fe0a8c64720a76d79e485109763"
   },
   "outputs": [],
   "source": [
    "# CHECK ALL the ERRORS\n",
    "#TestNum = test_labels.shape[0]\n",
    "#ErrCount = 0\n",
    "#for t in range(TestNum):\n",
    "#        if test_labelsRaw[t] != predictions[t]:\n",
    "#            ErrCount = ErrCount +1\n",
    "#            #print(\"True \", test_labelsRaw[t], \"Predicted \",predictions[t])\n",
    "#            #digit = test_imagesRaw[t]\n",
    "#            #plt.imshow(digit, cmap=plt.cm.binary)\n",
    "#            #plt.show()\n",
    "\n",
    "#print(\"Errors \", ErrCount, \" out of \", TestNum, \" = \", 100 * ErrCount/TestNum)"
   ]
  },
  {
   "cell_type": "code",
   "execution_count": 32,
   "metadata": {
    "_uuid": "c476f0390000552510340ea839032218045c9fff"
   },
   "outputs": [
    {
     "name": "stdout",
     "output_type": "stream",
     "text": [
      "processing fold # 0\n",
      "processing fold # 1\n",
      "processing fold # 2\n",
      "processing fold # 3\n",
      "Done CV k-fold\n"
     ]
    }
   ],
   "source": [
    "# CROSS VALIDATION k-fold\n",
    "train_data = train_images\n",
    "train_targets = train_labels\n",
    "k = 4\n",
    "num_val_samples = len(train_data) // k\n",
    "all_mae_histories = []\n",
    "for i in range(k):\n",
    "    print('processing fold #', i)\n",
    "    val_data = train_data[i * num_val_samples: (i + 1) * num_val_samples]\n",
    "    val_targets = train_targets[i * num_val_samples: (i + 1) * num_val_samples]\n",
    "    partial_train_data = np.concatenate(\n",
    "    [train_data[:i * num_val_samples],\n",
    "    train_data[(i + 1) * num_val_samples:]],\n",
    "    axis=0)\n",
    "    partial_train_targets = np.concatenate(\n",
    "    [train_targets[:i * num_val_samples],\n",
    "    train_targets[(i + 1) * num_val_samples:]],\n",
    "    axis=0)\n",
    "    \n",
    "    model = build_model()\n",
    "    history = model.fit(partial_train_data, partial_train_targets,\n",
    "    validation_data=(val_data, val_targets),\n",
    "    epochs=num_epochs, batch_size=BatchSize, verbose=0)\n",
    "    \n",
    "    mae_history = history.history['acc']\n",
    "    all_mae_histories.append(mae_history)\n",
    "    \n",
    "print(\"Done CV k-fold\")"
   ]
  },
  {
   "cell_type": "code",
   "execution_count": 33,
   "metadata": {
    "_uuid": "3eafffaf34507a6651bd18de5cd6cdd2ecf45cca"
   },
   "outputs": [
    {
     "data": {
      "image/png": "[encoded data removed]",
      "text/plain": [
       "<Figure size 432x288 with 1 Axes>"
      ]
     },
     "metadata": {},
     "output_type": "display_data"
    }
   ],
   "source": [
    "# LOSS Learning curves\n",
    "\n",
    "history_dict = history.history\n",
    "loss_values = history_dict['loss']\n",
    "val_loss_values = history_dict['val_loss']\n",
    "epochs = range(1, (len(history.history['acc']) + 1))\n",
    "plt.plot(epochs, loss_values, 'bo', label='Training loss')\n",
    "plt.plot(epochs, val_loss_values, 'b', label='Validation loss')\n",
    "plt.title('Training and validation loss')\n",
    "plt.xlabel('Epochs')\n",
    "plt.ylabel('Loss')\n",
    "plt.legend()\n",
    "plt.show()"
   ]
  },
  {
   "cell_type": "code",
   "execution_count": 34,
   "metadata": {
    "_uuid": "1703b47d39fd67b0e5ebdf28f1e5a830c7670e0c"
   },
   "outputs": [
    {
     "data": {
      "image/png": "[encoded data removed]",
      "text/plain": [
       "<Figure size 432x288 with 1 Axes>"
      ]
     },
     "metadata": {},
     "output_type": "display_data"
    }
   ],
   "source": [
    "# ACCURACY Learning Curves\n",
    "\n",
    "history_dict = history.history\n",
    "loss_values = history_dict['acc']\n",
    "val_loss_values = history_dict['val_acc']\n",
    "epochs = range(1, (len(history.history['acc']) + 1))\n",
    "plt.plot(epochs, loss_values, 'bo', label='Training Acc')\n",
    "plt.plot(epochs, val_loss_values, 'b', label='Validation Acc')\n",
    "plt.title('Training and validation Accuracy')\n",
    "plt.xlabel('Epochs')\n",
    "plt.ylabel('Accuracy')\n",
    "plt.legend()\n",
    "plt.show()"
   ]
  },
  {
   "cell_type": "code",
   "execution_count": 35,
   "metadata": {
    "_uuid": "0da5dcfec2cb66b08d8a9789787a9e38eac30fa9"
   },
   "outputs": [
    {
     "name": "stdout",
     "output_type": "stream",
     "text": [
      "train_imagesFin  (112000, 28, 28, 1)\n",
      "__________________________________________________\n",
      "train_labelsFin  (112000, 10)\n"
     ]
    }
   ],
   "source": [
    "# CONCATENATE the train with test for FINAL FIT\n",
    "\n",
    "train_imagesFin = np.concatenate((train_images,test_imagesKeras), axis=0)\n",
    "print(\"train_imagesFin \", train_imagesFin.shape)\n",
    "print(\"_\"*50)\n",
    "\n",
    "train_labelsFin = np.concatenate((train_labels,test_labelsKeras), axis=0)\n",
    "print(\"train_labelsFin \", train_labelsFin.shape)"
   ]
  },
  {
   "cell_type": "code",
   "execution_count": 36,
   "metadata": {
    "_uuid": "653bd6719155ce7c0ca50bb247fc7bfdecadace2"
   },
   "outputs": [
    {
     "name": "stdout",
     "output_type": "stream",
     "text": [
      "Epoch 1/30\n",
      "112000/112000 [==============================] - 7s 66us/step - loss: 0.7953 - acc: 0.7392\n",
      "Epoch 2/30\n",
      "112000/112000 [==============================] - 6s 57us/step - loss: 0.2493 - acc: 0.9223\n",
      "Epoch 3/30\n",
      "112000/112000 [==============================] - 6s 57us/step - loss: 0.1535 - acc: 0.9523\n",
      "Epoch 4/30\n",
      "112000/112000 [==============================] - 6s 57us/step - loss: 0.1122 - acc: 0.9645\n",
      "Epoch 5/30\n",
      "112000/112000 [==============================] - 6s 57us/step - loss: 0.0923 - acc: 0.9708\n",
      "Epoch 6/30\n",
      "112000/112000 [==============================] - 6s 57us/step - loss: 0.0783 - acc: 0.9756\n",
      "Epoch 7/30\n",
      "112000/112000 [==============================] - 6s 57us/step - loss: 0.0691 - acc: 0.9785\n",
      "Epoch 8/30\n",
      "112000/112000 [==============================] - 6s 57us/step - loss: 0.0615 - acc: 0.9805\n",
      "Epoch 9/30\n",
      "112000/112000 [==============================] - 6s 57us/step - loss: 0.0575 - acc: 0.9815\n",
      "Epoch 10/30\n",
      "112000/112000 [==============================] - 6s 57us/step - loss: 0.0533 - acc: 0.9827\n",
      "Epoch 11/30\n",
      "112000/112000 [==============================] - 6s 57us/step - loss: 0.0494 - acc: 0.9843\n",
      "Epoch 12/30\n",
      "112000/112000 [==============================] - 6s 57us/step - loss: 0.0455 - acc: 0.9852\n",
      "Epoch 13/30\n",
      "112000/112000 [==============================] - 6s 57us/step - loss: 0.0449 - acc: 0.9859\n",
      "Epoch 14/30\n",
      "112000/112000 [==============================] - 6s 57us/step - loss: 0.0420 - acc: 0.9867\n",
      "Epoch 15/30\n",
      "112000/112000 [==============================] - 6s 57us/step - loss: 0.0396 - acc: 0.9876\n",
      "Epoch 16/30\n",
      "112000/112000 [==============================] - 6s 56us/step - loss: 0.0385 - acc: 0.9876\n",
      "Epoch 17/30\n",
      "112000/112000 [==============================] - 6s 57us/step - loss: 0.0373 - acc: 0.9882\n",
      "Epoch 18/30\n",
      "112000/112000 [==============================] - 6s 57us/step - loss: 0.0351 - acc: 0.9890\n",
      "Epoch 19/30\n",
      "112000/112000 [==============================] - 6s 57us/step - loss: 0.0333 - acc: 0.9894\n",
      "Epoch 20/30\n",
      "112000/112000 [==============================] - 6s 56us/step - loss: 0.0335 - acc: 0.9891\n",
      "Epoch 21/30\n",
      "112000/112000 [==============================] - 6s 57us/step - loss: 0.0330 - acc: 0.9894\n",
      "Epoch 22/30\n",
      "112000/112000 [==============================] - 6s 56us/step - loss: 0.0303 - acc: 0.9897\n",
      "Epoch 23/30\n",
      "112000/112000 [==============================] - 6s 57us/step - loss: 0.0303 - acc: 0.9905\n",
      "Epoch 24/30\n",
      "112000/112000 [==============================] - 6s 57us/step - loss: 0.0292 - acc: 0.9906\n",
      "Epoch 25/30\n",
      "112000/112000 [==============================] - 6s 57us/step - loss: 0.0284 - acc: 0.9909\n",
      "Epoch 26/30\n",
      "112000/112000 [==============================] - 6s 56us/step - loss: 0.0286 - acc: 0.9908\n",
      "Epoch 27/30\n",
      "112000/112000 [==============================] - 6s 57us/step - loss: 0.0269 - acc: 0.9909\n",
      "Epoch 28/30\n",
      "112000/112000 [==============================] - 6s 56us/step - loss: 0.0258 - acc: 0.9916\n",
      "Epoch 29/30\n",
      "112000/112000 [==============================] - 6s 57us/step - loss: 0.0262 - acc: 0.9914\n",
      "Epoch 30/30\n",
      "112000/112000 [==============================] - 6s 57us/step - loss: 0.0259 - acc: 0.9919\n"
     ]
    },
    {
     "data": {
      "text/plain": [
       "<keras.callbacks.History at 0x7f518f611780>"
      ]
     },
     "execution_count": 36,
     "metadata": {},
     "output_type": "execute_result"
    }
   ],
   "source": [
    "# FINAL FIT according to the above charts\n",
    "\n",
    "model = build_model()\n",
    "model.fit(train_imagesFin, train_labelsFin, epochs=num_epochs, batch_size=BatchSize)"
   ]
  },
  {
   "cell_type": "code",
   "execution_count": 38,
   "metadata": {
    "_uuid": "273ab79269b12b940eb247a91d4d55d68cc6c3ad"
   },
   "outputs": [],
   "source": [
    "# PREDICT & ARGMAX to get the digit from the probability of softmax layer\n",
    "\n",
    "RawPred = model.predict(test_imagesKaggle)\n",
    "pred = []\n",
    "numTest = RawPred.shape[0]\n",
    "for i in range(numTest):\n",
    "    pred.append(np.argmax(RawPred[i])) \n",
    "predictions = np.array(pred)  "
   ]
  },
  {
   "cell_type": "code",
   "execution_count": 39,
   "metadata": {
    "_uuid": "35b495f34127d894d0bb1b94df9ec3ac881387ae"
   },
   "outputs": [
    {
     "name": "stdout",
     "output_type": "stream",
     "text": [
      "       ImageId  Label\n",
      "0            1      2\n",
      "1            2      0\n",
      "2            3      9\n",
      "3            4      0\n",
      "4            5      3\n",
      "5            6      7\n",
      "6            7      0\n",
      "7            8      3\n",
      "8            9      0\n",
      "9           10      3\n",
      "10          11      5\n",
      "11          12      7\n",
      "12          13      4\n",
      "13          14      0\n",
      "14          15      4\n",
      "15          16      3\n",
      "16          17      3\n",
      "17          18      1\n",
      "18          19      9\n",
      "19          20      0\n",
      "20          21      9\n",
      "21          22      1\n",
      "22          23      1\n",
      "23          24      5\n",
      "24          25      7\n",
      "25          26      4\n",
      "26          27      2\n",
      "27          28      7\n",
      "28          29      4\n",
      "29          30      7\n",
      "...        ...    ...\n",
      "27970    27971      5\n",
      "27971    27972      0\n",
      "27972    27973      4\n",
      "27973    27974      8\n",
      "27974    27975      0\n",
      "27975    27976      3\n",
      "27976    27977      6\n",
      "27977    27978      0\n",
      "27978    27979      1\n",
      "27979    27980      9\n",
      "27980    27981      3\n",
      "27981    27982      1\n",
      "27982    27983      1\n",
      "27983    27984      0\n",
      "27984    27985      4\n",
      "27985    27986      5\n",
      "27986    27987      2\n",
      "27987    27988      2\n",
      "27988    27989      9\n",
      "27989    27990      6\n",
      "27990    27991      7\n",
      "27991    27992      6\n",
      "27992    27993      1\n",
      "27993    27994      9\n",
      "27994    27995      7\n",
      "27995    27996      9\n",
      "27996    27997      7\n",
      "27997    27998      3\n",
      "27998    27999      9\n",
      "27999    28000      2\n",
      "\n",
      "[28000 rows x 2 columns]\n"
     ]
    }
   ],
   "source": [
    "# SUBMISSION\n",
    "sample_submission = pd.read_csv('../input/sample_submission.csv')\n",
    "#print(sample_submission.shape)\n",
    "result=pd.DataFrame({'ImageId':sample_submission.ImageId, 'Label':predictions})\n",
    "result.to_csv(\"submission.csv\",index=False)\n",
    "print(result)"
   ]
  },
  {
   "cell_type": "code",
   "execution_count": null,
   "metadata": {
    "_uuid": "49f2e293468469d8f50238244a18e99b07237d2b"
   },
   "outputs": [],
   "source": []
  }
 ],
 "metadata": {
  "kernelspec": {
   "display_name": "Python 3",
   "language": "python",
   "name": "python3"
  },
  "language_info": {
   "codemirror_mode": {
    "name": "ipython",
    "version": 3
   },
   "file_extension": ".py",
   "mimetype": "text/x-python",
   "name": "python",
   "nbconvert_exporter": "python",
   "pygments_lexer": "ipython3",
   "version": "3.6.4"
  }
 },
 "nbformat": 4,
 "nbformat_minor": 1
}
